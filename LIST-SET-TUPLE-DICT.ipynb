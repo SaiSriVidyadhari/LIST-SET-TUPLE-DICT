{
 "cells": [
  {
   "cell_type": "markdown",
   "id": "d1ccee1b",
   "metadata": {},
   "source": [
    "### LIST"
   ]
  },
  {
   "cell_type": "markdown",
   "id": "3172a86e",
   "metadata": {},
   "source": [
    "List are coma seprated within [].\n",
    "\n",
    "List are mutable(can be changed)\n",
    "\n",
    "List can be indexed and slicing can also be done\n",
    "\n",
    "List allows all type of datatypes\n",
    "\n",
    "Llist allows duplicate elements in the input list"
   ]
  },
  {
   "cell_type": "code",
   "execution_count": 1,
   "id": "570742d7",
   "metadata": {},
   "outputs": [
    {
     "name": "stdout",
     "output_type": "stream",
     "text": [
      "[12, 13.6, 'sai', (1+2j), 'priya', 12]\n",
      "<class 'list'>\n",
      "6\n"
     ]
    }
   ],
   "source": [
    "l=[12,13.6, \"sai\", 1+2j, \"priya\",12]\n",
    "print(l)\n",
    "print(type(l))\n",
    "print(len(l))"
   ]
  },
  {
   "cell_type": "code",
   "execution_count": 2,
   "id": "cbeb7c4b",
   "metadata": {},
   "outputs": [
    {
     "name": "stdout",
     "output_type": "stream",
     "text": [
      "<class 'tuple'>\n",
      "[100, 'abcd', 13.5]\n",
      "<class 'list'>\n"
     ]
    }
   ],
   "source": [
    "#converting the set to LIST\n",
    "s=(100,\"abcd\",13.5)\n",
    "print(type(s))\n",
    "l2=list(s)\n",
    "print(l2)\n",
    "print(type(l2))"
   ]
  },
  {
   "cell_type": "code",
   "execution_count": 3,
   "id": "e2765427",
   "metadata": {},
   "outputs": [
    {
     "name": "stdout",
     "output_type": "stream",
     "text": [
      "[12, 13.6, 'sai', (1+2j), 'priya', 12]\n",
      "[13.6, 'sai', (1+2j)]\n",
      "[12, 13.6, 'sai', (1+2j), 'priya', 12]\n",
      "['sai', (1+2j), 'priya', 12]\n",
      "[12, 13.6, 'sai', (1+2j), 'priya']\n",
      "sai\n",
      "[12, 'priya', (1+2j), 'sai', 13.6, 12]\n"
     ]
    }
   ],
   "source": [
    "#Indexing or Slicing in list\n",
    "print(l)\n",
    "print(l[1:4])#it will show the first 4 elemnts in the list\n",
    "print(l[:]) #it will show all elements in the list\n",
    "print(l[2:])# it will show elements from 2nd element to last\n",
    "print(l[:-1])#it will show all the elements from back except the last one\n",
    "print(l[2])# to get the 2nd position element\n",
    "print(l[::-1]) # to get all the elements in reverse order"
   ]
  },
  {
   "cell_type": "code",
   "execution_count": 4,
   "id": "de158beb",
   "metadata": {},
   "outputs": [
    {
     "data": {
      "text/plain": [
       "[12, 13.6, 'sai', (1+2j), 'priya', 12, 200]"
      ]
     },
     "execution_count": 4,
     "metadata": {},
     "output_type": "execute_result"
    }
   ],
   "source": [
    "l=[12,13.6, \"sai\", 1+2j, \"priya\",12,200]\n",
    "l"
   ]
  },
  {
   "cell_type": "code",
   "execution_count": 5,
   "id": "6efedbe7",
   "metadata": {},
   "outputs": [
    {
     "data": {
      "text/plain": [
       "[12, 13.6, 'sai', 'sri', (1+2j), 'priya', 12, 200]"
      ]
     },
     "execution_count": 5,
     "metadata": {},
     "output_type": "execute_result"
    }
   ],
   "source": [
    "l=[12,13.6, \"sai\", 1+2j, \"priya\",12,200]\n",
    "l.insert(3,\"sri\")#select the location & give what to be inserted\n",
    "l"
   ]
  },
  {
   "cell_type": "code",
   "execution_count": 6,
   "id": "d3b040bf",
   "metadata": {},
   "outputs": [
    {
     "data": {
      "text/plain": [
       "[12, 13.6, 'sai', (1+2j), 'priya', 12, 200, 'amma']"
      ]
     },
     "execution_count": 6,
     "metadata": {},
     "output_type": "execute_result"
    }
   ],
   "source": [
    "l=[12,13.6, \"sai\", 1+2j, \"priya\", 12, 200]\n",
    "l.append(\"amma\")\n",
    "l"
   ]
  },
  {
   "cell_type": "code",
   "execution_count": 7,
   "id": "fdb42b15",
   "metadata": {},
   "outputs": [
    {
     "data": {
      "text/plain": [
       "[12, 13.6, 'sai', (1+2j), 'priya', 12, 200, ['june', 123, 13.6, 'sai', 500]]"
      ]
     },
     "execution_count": 7,
     "metadata": {},
     "output_type": "execute_result"
    }
   ],
   "source": [
    "l=[12,13.6, \"sai\", 1+2j, \"priya\", 12, 200]\n",
    "l1=[\"june\",123,13.6,\"sai\",500]\n",
    "l.append(l1)\n",
    "l"
   ]
  },
  {
   "cell_type": "markdown",
   "id": "9ed56e4a",
   "metadata": {},
   "source": [
    "#### both extend and +(addition) will be the same output"
   ]
  },
  {
   "cell_type": "code",
   "execution_count": 8,
   "id": "f71b8b96",
   "metadata": {},
   "outputs": [
    {
     "data": {
      "text/plain": [
       "[12, 13.6, 'sai', (1+2j), 'priya', 12, 200, 'june', 123, 13.6, 'sai', 500]"
      ]
     },
     "execution_count": 8,
     "metadata": {},
     "output_type": "execute_result"
    }
   ],
   "source": [
    "l=[12,13.6, \"sai\", 1+2j, \"priya\",12,200]\n",
    "l1=[\"june\",123,13.6,\"sai\",500]\n",
    "l.extend(l1)\n",
    "l"
   ]
  },
  {
   "cell_type": "code",
   "execution_count": 9,
   "id": "5b679450",
   "metadata": {},
   "outputs": [
    {
     "name": "stdout",
     "output_type": "stream",
     "text": [
      "[12, 13.6, 'sai', (1+2j), 'priya', 12, 200, 'june', 123, 13.6, 'sai', 500]\n"
     ]
    }
   ],
   "source": [
    "l=[12,13.6, \"sai\", 1+2j, \"priya\",12,200]\n",
    "l1=[\"june\",123,13.6,\"sai\",500]\n",
    "print(l+l1)"
   ]
  },
  {
   "cell_type": "code",
   "execution_count": 10,
   "id": "a4fb7858",
   "metadata": {},
   "outputs": [
    {
     "data": {
      "text/plain": [
       "[12, 13.6, 'sai', (1+2j), 'priya', 12.3, 1200, 'mmm']"
      ]
     },
     "execution_count": 10,
     "metadata": {},
     "output_type": "execute_result"
    }
   ],
   "source": [
    "l3=[12,13.6, \"sai\", 1+2j, \"priya\",12.3,1200,\"mmm\"]\n",
    "l3"
   ]
  },
  {
   "cell_type": "code",
   "execution_count": 11,
   "id": "f5a5e154",
   "metadata": {},
   "outputs": [
    {
     "data": {
      "text/plain": [
       "[12, 13.6, 'sai', (1+2j), 'priya', 12.3, 1200]"
      ]
     },
     "execution_count": 11,
     "metadata": {},
     "output_type": "execute_result"
    }
   ],
   "source": [
    "l3=[12,13.6, \"sai\", 1+2j, \"priya\",12.3,1200,\"mmm\"]\n",
    "l3.remove(\"mmm\")\n",
    "l3"
   ]
  },
  {
   "cell_type": "code",
   "execution_count": 12,
   "id": "c91c0b7d",
   "metadata": {},
   "outputs": [
    {
     "data": {
      "text/plain": [
       "[12, 13.6, 'sai', (1+2j), 'priya', 1200, 'mmm']"
      ]
     },
     "execution_count": 12,
     "metadata": {},
     "output_type": "execute_result"
    }
   ],
   "source": [
    "l3=[12,13.6, \"sai\", 1+2j, \"priya\",12.3,1200,\"mmm\"]\n",
    "l3.remove(12.3) #remove by the element & only one can be done\n",
    "l3"
   ]
  },
  {
   "cell_type": "code",
   "execution_count": 13,
   "id": "d9c9b8ac",
   "metadata": {},
   "outputs": [
    {
     "data": {
      "text/plain": [
       "[12, 13.6, 'sai', 'priya', 12.3, 1200, 'mmm']"
      ]
     },
     "execution_count": 13,
     "metadata": {},
     "output_type": "execute_result"
    }
   ],
   "source": [
    "l3=[12,13.6, \"sai\", 1+2j, \"priya\",12.3,1200,\"mmm\"]\n",
    "l3.pop(3) # remove the element by position & only one can be removed\n",
    "l3"
   ]
  },
  {
   "cell_type": "code",
   "execution_count": 14,
   "id": "7cebe1d9",
   "metadata": {},
   "outputs": [
    {
     "data": {
      "text/plain": [
       "[]"
      ]
     },
     "execution_count": 14,
     "metadata": {},
     "output_type": "execute_result"
    }
   ],
   "source": [
    "l3=[12,13.6, \"sai\", 1+2j, \"priya\",12.3,1200,\"mmm\"]\n",
    "l3.clear()\n",
    "l3"
   ]
  },
  {
   "cell_type": "code",
   "execution_count": 15,
   "id": "14356bf1",
   "metadata": {},
   "outputs": [
    {
     "data": {
      "text/plain": [
       "{10, 12, 15, 64, 76, 88, 150, 200}"
      ]
     },
     "execution_count": 15,
     "metadata": {},
     "output_type": "execute_result"
    }
   ],
   "source": [
    "x=[64,10,12,15,88,76,200,150,88]\n",
    "x1=set((x))  #list converted to set\n",
    "x1"
   ]
  },
  {
   "cell_type": "code",
   "execution_count": 16,
   "id": "fdad6620",
   "metadata": {},
   "outputs": [
    {
     "data": {
      "text/plain": [
       "[64, 200, 10, 12, 76, 15, 150, 88]"
      ]
     },
     "execution_count": 16,
     "metadata": {},
     "output_type": "execute_result"
    }
   ],
   "source": [
    "x2=list((x1)) \n",
    "# sets are converted to list\n",
    "# to remove the duplicates we can convert from one form to other\n",
    "x2"
   ]
  },
  {
   "cell_type": "code",
   "execution_count": 17,
   "id": "c2012273",
   "metadata": {},
   "outputs": [
    {
     "name": "stdout",
     "output_type": "stream",
     "text": [
      "[64, 10, 76, 200]\n"
     ]
    }
   ],
   "source": [
    "x=[64,10,12,15,88,76,200,150,88]\n",
    "y=[12,88,15,150]\n",
    "for n in y:\n",
    "   while n in x:\n",
    "       x.remove(n)\n",
    "print(x)"
   ]
  },
  {
   "cell_type": "code",
   "execution_count": 18,
   "id": "b4698046",
   "metadata": {},
   "outputs": [
    {
     "data": {
      "text/plain": [
       "[0, 1, 2, 3, 4]"
      ]
     },
     "execution_count": 18,
     "metadata": {},
     "output_type": "execute_result"
    }
   ],
   "source": [
    "a=[x for x in range(20) if x<5]\n",
    "a"
   ]
  },
  {
   "cell_type": "code",
   "execution_count": 19,
   "id": "cb94c4f6",
   "metadata": {},
   "outputs": [
    {
     "data": {
      "text/plain": [
       "range(0, 20)"
      ]
     },
     "execution_count": 19,
     "metadata": {},
     "output_type": "execute_result"
    }
   ],
   "source": [
    "b=range(20)\n",
    "b"
   ]
  },
  {
   "cell_type": "code",
   "execution_count": 20,
   "id": "5076813c",
   "metadata": {},
   "outputs": [
    {
     "data": {
      "text/plain": [
       "[0, 1, 2, 3, 4, 5, 6, 7, 8, 9]"
      ]
     },
     "execution_count": 20,
     "metadata": {},
     "output_type": "execute_result"
    }
   ],
   "source": [
    "c=[x for x in range(20) if x<10]\n",
    "c"
   ]
  },
  {
   "cell_type": "markdown",
   "id": "a5dcf3f9",
   "metadata": {},
   "source": [
    "#### to get the ascending & descending order of numeric & string individually\n",
    "\n",
    "the ist should not contain both number & string for the sorting\n",
    "\n",
    "by default the sorting will be in ascending order.\n",
    "\n",
    "to get in desending order we must give reverse=True"
   ]
  },
  {
   "cell_type": "code",
   "execution_count": 21,
   "id": "abd8e3fb",
   "metadata": {},
   "outputs": [
    {
     "data": {
      "text/plain": [
       "[1, 2.56, 23.8, 46, 53, 80.6]"
      ]
     },
     "execution_count": 21,
     "metadata": {},
     "output_type": "execute_result"
    }
   ],
   "source": [
    "# to get the ascending order of numerics\n",
    "a1=[1,53,46,80.6,2.56,23.8]\n",
    "a1.sort()\n",
    "a1"
   ]
  },
  {
   "cell_type": "code",
   "execution_count": 22,
   "id": "d8f2a586",
   "metadata": {},
   "outputs": [
    {
     "data": {
      "text/plain": [
       "['air', 'capacity', 'desity', 'flow', 'mass', 'volume']"
      ]
     },
     "execution_count": 22,
     "metadata": {},
     "output_type": "execute_result"
    }
   ],
   "source": [
    "#to get the ascending order of string\n",
    "a2=[\"air\",\"volume\",\"desity\",\"mass\",\"flow\",\"capacity\"]\n",
    "a2.sort()\n",
    "a2"
   ]
  },
  {
   "cell_type": "code",
   "execution_count": 23,
   "id": "8300d546",
   "metadata": {},
   "outputs": [
    {
     "data": {
      "text/plain": [
       "[80.6, 53, 46, 23.8, 2.56, 1]"
      ]
     },
     "execution_count": 23,
     "metadata": {},
     "output_type": "execute_result"
    }
   ],
   "source": [
    "#to get the descending order of numeric\n",
    "a1=[1,53,46,80.6,2.56,23.8]\n",
    "a1.sort(reverse=True)\n",
    "a1"
   ]
  },
  {
   "cell_type": "code",
   "execution_count": 24,
   "id": "6f25a94e",
   "metadata": {},
   "outputs": [
    {
     "data": {
      "text/plain": [
       "['volume', 'mass', 'flow', 'desity', 'capacity', 'air']"
      ]
     },
     "execution_count": 24,
     "metadata": {},
     "output_type": "execute_result"
    }
   ],
   "source": [
    "#to get the descending order of string\n",
    "a2=[\"air\",\"volume\",\"desity\",\"mass\",\"flow\",\"capacity\"]\n",
    "a2.sort(reverse=True)\n",
    "a2"
   ]
  },
  {
   "cell_type": "code",
   "execution_count": 25,
   "id": "b4832945",
   "metadata": {},
   "outputs": [
    {
     "data": {
      "text/plain": [
       "['capacity', 'flow', 'mass', 'desity', 'volume', 'air']"
      ]
     },
     "execution_count": 25,
     "metadata": {},
     "output_type": "execute_result"
    }
   ],
   "source": [
    "# to get the reverse order of the given list\n",
    "a2=[\"air\",\"volume\",\"desity\",\"mass\",\"flow\",\"capacity\"]\n",
    "a2.reverse()\n",
    "a2"
   ]
  },
  {
   "cell_type": "code",
   "execution_count": 26,
   "id": "538590d4",
   "metadata": {},
   "outputs": [
    {
     "data": {
      "text/plain": [
       "[23.8, 2.56, 80.6, 46, 53, 1]"
      ]
     },
     "execution_count": 26,
     "metadata": {},
     "output_type": "execute_result"
    }
   ],
   "source": [
    "a1=[1,53,46,80.6,2.56,23.8]\n",
    "a1.reverse()\n",
    "a1"
   ]
  },
  {
   "cell_type": "code",
   "execution_count": 27,
   "id": "2bb6f73d",
   "metadata": {},
   "outputs": [
    {
     "name": "stdout",
     "output_type": "stream",
     "text": [
      "1\n",
      "4\n"
     ]
    }
   ],
   "source": [
    "a3=[12.5,80.6,\"air\",\"water\",\"mass\",56]\n",
    "print(a3.index(80.6))\n",
    "print(a3.index(\"mass\"))"
   ]
  },
  {
   "cell_type": "code",
   "execution_count": 28,
   "id": "95d4c430",
   "metadata": {},
   "outputs": [
    {
     "data": {
      "text/plain": [
       "6"
      ]
     },
     "execution_count": 28,
     "metadata": {},
     "output_type": "execute_result"
    }
   ],
   "source": [
    "#to get the number of elements in the list\n",
    "len(a3)"
   ]
  },
  {
   "cell_type": "markdown",
   "id": "4e9467cc",
   "metadata": {},
   "source": [
    "### TUPLE\n",
    "\n",
    "Tuple are coma seperated with ().\n",
    "\n",
    "Tuples does not support item assignment i,e they are immutable.\n",
    "\n",
    "Indexing can be done for the tuple.\n",
    "\n",
    "Tuple supports multiple datasets."
   ]
  },
  {
   "cell_type": "code",
   "execution_count": 29,
   "id": "e0d4a2ea",
   "metadata": {},
   "outputs": [
    {
     "name": "stdout",
     "output_type": "stream",
     "text": [
      "<class 'tuple'>\n"
     ]
    }
   ],
   "source": [
    "a=(1,2,3,\"abc\",5.6)\n",
    "print(type(a))"
   ]
  },
  {
   "cell_type": "code",
   "execution_count": 30,
   "id": "dde9af70",
   "metadata": {},
   "outputs": [
    {
     "name": "stdout",
     "output_type": "stream",
     "text": [
      "<class 'list'>\n",
      "<class 'tuple'>\n"
     ]
    },
    {
     "data": {
      "text/plain": [
       "(1, 3, 5, 'abb', 20.6, 5)"
      ]
     },
     "execution_count": 30,
     "metadata": {},
     "output_type": "execute_result"
    }
   ],
   "source": [
    "#we can convert list to tuple\n",
    "l=[1,3,5,\"abb\",20.6,5]\n",
    "print(type(l))\n",
    "d=tuple(l)\n",
    "print(type(d))\n",
    "d"
   ]
  },
  {
   "cell_type": "code",
   "execution_count": 31,
   "id": "8c137bec",
   "metadata": {},
   "outputs": [
    {
     "data": {
      "text/plain": [
       "(3, 5, 'abb', 20.6, 5)"
      ]
     },
     "execution_count": 31,
     "metadata": {},
     "output_type": "execute_result"
    }
   ],
   "source": [
    "d[1:] #indexing can be done"
   ]
  },
  {
   "cell_type": "code",
   "execution_count": 32,
   "id": "d486113e",
   "metadata": {},
   "outputs": [
    {
     "data": {
      "text/plain": [
       "(5, 20.6, 'abb', 5, 3, 1)"
      ]
     },
     "execution_count": 32,
     "metadata": {},
     "output_type": "execute_result"
    }
   ],
   "source": [
    "d[::-1] # to get reverse order"
   ]
  },
  {
   "cell_type": "code",
   "execution_count": 33,
   "id": "79aaa165",
   "metadata": {},
   "outputs": [
    {
     "ename": "TypeError",
     "evalue": "'tuple' object does not support item assignment",
     "output_type": "error",
     "traceback": [
      "\u001b[1;31m---------------------------------------------------------------------------\u001b[0m",
      "\u001b[1;31mTypeError\u001b[0m                                 Traceback (most recent call last)",
      "\u001b[1;32m~\\AppData\\Local\\Temp\\ipykernel_8368\\3002856651.py\u001b[0m in \u001b[0;36m<module>\u001b[1;34m\u001b[0m\n\u001b[1;32m----> 1\u001b[1;33m \u001b[0ma\u001b[0m\u001b[1;33m[\u001b[0m\u001b[1;36m2\u001b[0m\u001b[1;33m]\u001b[0m\u001b[1;33m=\u001b[0m\u001b[1;36m50\u001b[0m \u001b[1;31m# they are immutable so we cant change the elements\u001b[0m\u001b[1;33m\u001b[0m\u001b[1;33m\u001b[0m\u001b[0m\n\u001b[0m",
      "\u001b[1;31mTypeError\u001b[0m: 'tuple' object does not support item assignment"
     ]
    }
   ],
   "source": [
    "a[2]=50 # they are immutable so we cant change the elements"
   ]
  },
  {
   "cell_type": "code",
   "execution_count": 34,
   "id": "dbf8d923",
   "metadata": {},
   "outputs": [
    {
     "ename": "AttributeError",
     "evalue": "'tuple' object has no attribute 'append'",
     "output_type": "error",
     "traceback": [
      "\u001b[1;31m---------------------------------------------------------------------------\u001b[0m",
      "\u001b[1;31mAttributeError\u001b[0m                            Traceback (most recent call last)",
      "\u001b[1;32m~\\AppData\\Local\\Temp\\ipykernel_8368\\2526779675.py\u001b[0m in \u001b[0;36m<module>\u001b[1;34m\u001b[0m\n\u001b[1;32m----> 1\u001b[1;33m \u001b[0ma\u001b[0m\u001b[1;33m.\u001b[0m\u001b[0mappend\u001b[0m\u001b[1;33m(\u001b[0m\u001b[1;36m100\u001b[0m\u001b[1;33m)\u001b[0m\u001b[1;33m\u001b[0m\u001b[1;33m\u001b[0m\u001b[0m\n\u001b[0m",
      "\u001b[1;31mAttributeError\u001b[0m: 'tuple' object has no attribute 'append'"
     ]
    }
   ],
   "source": [
    "a.append(100)"
   ]
  },
  {
   "cell_type": "markdown",
   "id": "413006d4",
   "metadata": {},
   "source": [
    "### SETS\n",
    "sets are one dimensional.\n",
    "\n",
    "Sets allow mixed datatypes.\n",
    "\n",
    "Sets are coma seperated and encosed by {}.\n",
    "\n",
    "Sets is unordered, it will define its ow order.\n",
    "\n",
    "Sets will have unique elements( they dont allow duplicates).\n",
    "\n",
    "Sets does not support assignmnet\n"
   ]
  },
  {
   "cell_type": "code",
   "execution_count": 35,
   "id": "77d7ecf5",
   "metadata": {},
   "outputs": [
    {
     "data": {
      "text/plain": [
       "set"
      ]
     },
     "execution_count": 35,
     "metadata": {},
     "output_type": "execute_result"
    }
   ],
   "source": [
    "a={'mom',123,'dad',66.22,'son'}\n",
    "type(a)"
   ]
  },
  {
   "cell_type": "code",
   "execution_count": 36,
   "id": "fbb2d231",
   "metadata": {},
   "outputs": [
    {
     "name": "stdout",
     "output_type": "stream",
     "text": [
      "<class 'list'>\n",
      "<class 'set'>\n"
     ]
    }
   ],
   "source": [
    "b=['abc',22,30.6,100,'forest',True, 5.4]\n",
    "print(type(b))\n",
    "b1=set((b))\n",
    "print(type(b1))"
   ]
  },
  {
   "cell_type": "code",
   "execution_count": 37,
   "id": "27aa596d",
   "metadata": {},
   "outputs": [
    {
     "name": "stdout",
     "output_type": "stream",
     "text": [
      "True\n"
     ]
    },
    {
     "ename": "TypeError",
     "evalue": "'set' object is not subscriptable",
     "output_type": "error",
     "traceback": [
      "\u001b[1;31m---------------------------------------------------------------------------\u001b[0m",
      "\u001b[1;31mTypeError\u001b[0m                                 Traceback (most recent call last)",
      "\u001b[1;32m~\\AppData\\Local\\Temp\\ipykernel_8368\\2649384277.py\u001b[0m in \u001b[0;36m<module>\u001b[1;34m\u001b[0m\n\u001b[0;32m      1\u001b[0m \u001b[1;31m#Sets does not support assignmnets\u001b[0m\u001b[1;33m\u001b[0m\u001b[1;33m\u001b[0m\u001b[0m\n\u001b[0;32m      2\u001b[0m \u001b[0mprint\u001b[0m\u001b[1;33m(\u001b[0m\u001b[0mb\u001b[0m\u001b[1;33m[\u001b[0m\u001b[1;36m5\u001b[0m\u001b[1;33m]\u001b[0m\u001b[1;33m)\u001b[0m\u001b[1;33m\u001b[0m\u001b[1;33m\u001b[0m\u001b[0m\n\u001b[1;32m----> 3\u001b[1;33m \u001b[0mprint\u001b[0m\u001b[1;33m(\u001b[0m\u001b[0mb1\u001b[0m\u001b[1;33m[\u001b[0m\u001b[1;36m4\u001b[0m\u001b[1;33m]\u001b[0m\u001b[1;33m)\u001b[0m\u001b[1;33m\u001b[0m\u001b[1;33m\u001b[0m\u001b[0m\n\u001b[0m",
      "\u001b[1;31mTypeError\u001b[0m: 'set' object is not subscriptable"
     ]
    }
   ],
   "source": [
    "#Sets does not support assignmnets\n",
    "print(b[5])\n",
    "print(b1[4])"
   ]
  },
  {
   "cell_type": "code",
   "execution_count": 38,
   "id": "abb200f0",
   "metadata": {},
   "outputs": [
    {
     "name": "stdout",
     "output_type": "stream",
     "text": [
      "abc\n",
      "22\n",
      "30.6\n",
      "100\n",
      "forest\n",
      "True\n",
      "5.4\n"
     ]
    }
   ],
   "source": [
    "for i in b:\n",
    "    print(i)"
   ]
  },
  {
   "cell_type": "code",
   "execution_count": 39,
   "id": "e0d22c8f",
   "metadata": {},
   "outputs": [
    {
     "name": "stdout",
     "output_type": "stream",
     "text": [
      "True\n"
     ]
    }
   ],
   "source": [
    "#to check weather it is present in the given set.\n",
    "print(100 in b1)"
   ]
  },
  {
   "cell_type": "code",
   "execution_count": 40,
   "id": "c18fd047",
   "metadata": {},
   "outputs": [
    {
     "name": "stdout",
     "output_type": "stream",
     "text": [
      "{True, 100, 5.4, 'forest', 'abc', 22, 30.6}\n"
     ]
    },
    {
     "data": {
      "text/plain": [
       "{100, 22, 30.6, 5.4, True, 'abc', 'forest', 'pune'}"
      ]
     },
     "execution_count": 40,
     "metadata": {},
     "output_type": "execute_result"
    }
   ],
   "source": [
    "print(b1)\n",
    "b1.add(\"pune\")\n",
    "b1"
   ]
  },
  {
   "cell_type": "code",
   "execution_count": 41,
   "id": "8e0acbbc",
   "metadata": {},
   "outputs": [
    {
     "name": "stdout",
     "output_type": "stream",
     "text": [
      "{True, 'pune', 100, 5.4, 'forest', 'abc', 22, 30.6}\n",
      "{66.22, 'mom', 'dad', 123, 'son'}\n"
     ]
    },
    {
     "data": {
      "text/plain": [
       "{100,\n",
       " 123,\n",
       " 22,\n",
       " 30.6,\n",
       " 5.4,\n",
       " 66.22,\n",
       " True,\n",
       " 'abc',\n",
       " 'dad',\n",
       " 'forest',\n",
       " 'mom',\n",
       " 'pune',\n",
       " 'son'}"
      ]
     },
     "execution_count": 41,
     "metadata": {},
     "output_type": "execute_result"
    }
   ],
   "source": [
    "print(b1)\n",
    "print(a)\n",
    "b1.update(a)\n",
    "b1"
   ]
  },
  {
   "cell_type": "markdown",
   "id": "5be17101",
   "metadata": {},
   "source": [
    "##### remove & dicard will remove the element given but discard will not show any error if the given element is not present"
   ]
  },
  {
   "cell_type": "code",
   "execution_count": 42,
   "id": "8db26565",
   "metadata": {},
   "outputs": [
    {
     "data": {
      "text/plain": [
       "{100, 123, 22, 30.6, 5.4, 66.22, True, 'abc', 'dad', 'forest', 'mom', 'son'}"
      ]
     },
     "execution_count": 42,
     "metadata": {},
     "output_type": "execute_result"
    }
   ],
   "source": [
    "b1.remove(\"pune\")\n",
    "b1"
   ]
  },
  {
   "cell_type": "code",
   "execution_count": 43,
   "id": "5596ce3b",
   "metadata": {},
   "outputs": [],
   "source": [
    "b1.remove(123)"
   ]
  },
  {
   "cell_type": "code",
   "execution_count": 44,
   "id": "422bd482",
   "metadata": {},
   "outputs": [
    {
     "data": {
      "text/plain": [
       "{100, 22, 30.6, 5.4, 66.22, True, 'abc', 'dad', 'forest', 'mom', 'son'}"
      ]
     },
     "execution_count": 44,
     "metadata": {},
     "output_type": "execute_result"
    }
   ],
   "source": [
    "b1"
   ]
  },
  {
   "cell_type": "code",
   "execution_count": 45,
   "id": "9141795b",
   "metadata": {},
   "outputs": [
    {
     "data": {
      "text/plain": [
       "{100, 22, 30.6, 5.4, 66.22, True, 'abc', 'dad', 'mom', 'son'}"
      ]
     },
     "execution_count": 45,
     "metadata": {},
     "output_type": "execute_result"
    }
   ],
   "source": [
    "b1.discard(\"forest\")\n",
    "b1"
   ]
  },
  {
   "cell_type": "code",
   "execution_count": 47,
   "id": "b39fa9f0",
   "metadata": {},
   "outputs": [
    {
     "data": {
      "text/plain": [
       "{100, 22, 30.6, 5.4, 66.22, True, 'abc', 'dad', 'mom', 'son'}"
      ]
     },
     "execution_count": 47,
     "metadata": {},
     "output_type": "execute_result"
    }
   ],
   "source": [
    "b1.discard(\"apple\") #since the apple element is not present in the given set it wil not show any error\n",
    "b1"
   ]
  },
  {
   "cell_type": "code",
   "execution_count": 48,
   "id": "6c3aaad3",
   "metadata": {},
   "outputs": [
    {
     "ename": "KeyError",
     "evalue": "'apple'",
     "output_type": "error",
     "traceback": [
      "\u001b[1;31m---------------------------------------------------------------------------\u001b[0m",
      "\u001b[1;31mKeyError\u001b[0m                                  Traceback (most recent call last)",
      "\u001b[1;32m~\\AppData\\Local\\Temp\\ipykernel_8368\\3138075397.py\u001b[0m in \u001b[0;36m<module>\u001b[1;34m\u001b[0m\n\u001b[1;32m----> 1\u001b[1;33m \u001b[0mb1\u001b[0m\u001b[1;33m.\u001b[0m\u001b[0mremove\u001b[0m\u001b[1;33m(\u001b[0m\u001b[1;34m\"apple\"\u001b[0m\u001b[1;33m)\u001b[0m \u001b[1;31m#it wil show an error if it is not in the given set\u001b[0m\u001b[1;33m\u001b[0m\u001b[1;33m\u001b[0m\u001b[0m\n\u001b[0m\u001b[0;32m      2\u001b[0m \u001b[0mb1\u001b[0m\u001b[1;33m\u001b[0m\u001b[1;33m\u001b[0m\u001b[0m\n",
      "\u001b[1;31mKeyError\u001b[0m: 'apple'"
     ]
    }
   ],
   "source": [
    "b1.remove(\"apple\") #it wil show an error if it is not in the given set\n",
    "b1"
   ]
  },
  {
   "cell_type": "code",
   "execution_count": 50,
   "id": "13e7698d",
   "metadata": {},
   "outputs": [
    {
     "data": {
      "text/plain": [
       "{100, 22, 30.6, 5.4, 66.22, 'abc', 'dad', 'mom', 'son'}"
      ]
     },
     "execution_count": 50,
     "metadata": {},
     "output_type": "execute_result"
    }
   ],
   "source": [
    "b1.pop()\n",
    "b1"
   ]
  },
  {
   "cell_type": "code",
   "execution_count": 51,
   "id": "28981c20",
   "metadata": {},
   "outputs": [
    {
     "data": {
      "text/plain": [
       "['abc', 22, 30.6, 100, 'forest', True]"
      ]
     },
     "execution_count": 51,
     "metadata": {},
     "output_type": "execute_result"
    }
   ],
   "source": [
    "b3=['abc',22,30.6,100,'forest',True, 5.4]\n",
    "b3.pop() #remove the last element\n",
    "b3"
   ]
  },
  {
   "cell_type": "code",
   "execution_count": 52,
   "id": "0c75bb32",
   "metadata": {},
   "outputs": [
    {
     "data": {
      "text/plain": [
       "[]"
      ]
     },
     "execution_count": 52,
     "metadata": {},
     "output_type": "execute_result"
    }
   ],
   "source": [
    "b3=['abc',22,30.6,100,'forest',True, 5.4]\n",
    "b3.clear() #it will remove content in the given \n",
    "b3"
   ]
  },
  {
   "cell_type": "code",
   "execution_count": 53,
   "id": "9f4d0803",
   "metadata": {},
   "outputs": [
    {
     "ename": "NameError",
     "evalue": "name 'b3' is not defined",
     "output_type": "error",
     "traceback": [
      "\u001b[1;31m---------------------------------------------------------------------------\u001b[0m",
      "\u001b[1;31mNameError\u001b[0m                                 Traceback (most recent call last)",
      "\u001b[1;32m~\\AppData\\Local\\Temp\\ipykernel_8368\\1701011452.py\u001b[0m in \u001b[0;36m<module>\u001b[1;34m\u001b[0m\n\u001b[0;32m      1\u001b[0m \u001b[0mb3\u001b[0m\u001b[1;33m=\u001b[0m\u001b[1;33m[\u001b[0m\u001b[1;34m'abc'\u001b[0m\u001b[1;33m,\u001b[0m\u001b[1;36m22\u001b[0m\u001b[1;33m,\u001b[0m\u001b[1;36m30.6\u001b[0m\u001b[1;33m,\u001b[0m\u001b[1;36m100\u001b[0m\u001b[1;33m,\u001b[0m\u001b[1;34m'forest'\u001b[0m\u001b[1;33m,\u001b[0m\u001b[1;32mTrue\u001b[0m\u001b[1;33m,\u001b[0m \u001b[1;36m5.4\u001b[0m\u001b[1;33m]\u001b[0m\u001b[1;33m\u001b[0m\u001b[1;33m\u001b[0m\u001b[0m\n\u001b[0;32m      2\u001b[0m \u001b[1;32mdel\u001b[0m \u001b[0mb3\u001b[0m \u001b[1;31m#it willl remove the b3 itself so it shows the error\u001b[0m\u001b[1;33m\u001b[0m\u001b[1;33m\u001b[0m\u001b[0m\n\u001b[1;32m----> 3\u001b[1;33m \u001b[0mb3\u001b[0m\u001b[1;33m\u001b[0m\u001b[1;33m\u001b[0m\u001b[0m\n\u001b[0m",
      "\u001b[1;31mNameError\u001b[0m: name 'b3' is not defined"
     ]
    }
   ],
   "source": [
    "b3=['abc',22,30.6,100,'forest',True, 5.4]\n",
    "del b3 #it willl remove the b3 itself so it shows the error\n",
    "b3"
   ]
  },
  {
   "cell_type": "markdown",
   "id": "92005d67",
   "metadata": {},
   "source": [
    "##### We can do Union & Intersection with the Sets"
   ]
  },
  {
   "cell_type": "code",
   "execution_count": 54,
   "id": "5e2bff0a",
   "metadata": {},
   "outputs": [
    {
     "data": {
      "text/plain": [
       "{1, 2, 4, 5, 6, 'a', 'b', 'c', 'd'}"
      ]
     },
     "execution_count": 54,
     "metadata": {},
     "output_type": "execute_result"
    }
   ],
   "source": [
    "#to perform the UNION operation\n",
    "s1={'a','b','c','d'}\n",
    "s2={1,2,4,5,6}\n",
    "s=s1.union(s2)\n",
    "s"
   ]
  },
  {
   "cell_type": "code",
   "execution_count": 55,
   "id": "f1ef5e70",
   "metadata": {},
   "outputs": [
    {
     "data": {
      "text/plain": [
       "{1, 5}"
      ]
     },
     "execution_count": 55,
     "metadata": {},
     "output_type": "execute_result"
    }
   ],
   "source": [
    "#To perform the INTERSECTION operation\n",
    "x1={'a','b','c','d',1,5}\n",
    "x2={1,2,4,5,6}\n",
    "x=x1.intersection(x2)\n",
    "x"
   ]
  },
  {
   "cell_type": "code",
   "execution_count": 56,
   "id": "ed672544",
   "metadata": {},
   "outputs": [
    {
     "data": {
      "text/plain": [
       "set"
      ]
     },
     "execution_count": 56,
     "metadata": {},
     "output_type": "execute_result"
    }
   ],
   "source": [
    "type(x1)"
   ]
  },
  {
   "cell_type": "code",
   "execution_count": 57,
   "id": "47970911",
   "metadata": {},
   "outputs": [],
   "source": [
    "a = set('abracadabra')\n",
    "b = set('alacazam')"
   ]
  },
  {
   "cell_type": "code",
   "execution_count": 58,
   "id": "28b689f0",
   "metadata": {},
   "outputs": [
    {
     "data": {
      "text/plain": [
       "{'a', 'b', 'c', 'd', 'r'}"
      ]
     },
     "execution_count": 58,
     "metadata": {},
     "output_type": "execute_result"
    }
   ],
   "source": [
    "a # we get the unique eements"
   ]
  },
  {
   "cell_type": "code",
   "execution_count": 59,
   "id": "92483163",
   "metadata": {},
   "outputs": [
    {
     "data": {
      "text/plain": [
       "{'a', 'c', 'l', 'm', 'z'}"
      ]
     },
     "execution_count": 59,
     "metadata": {},
     "output_type": "execute_result"
    }
   ],
   "source": [
    "b"
   ]
  },
  {
   "cell_type": "code",
   "execution_count": 60,
   "id": "5cecc686",
   "metadata": {},
   "outputs": [
    {
     "name": "stdout",
     "output_type": "stream",
     "text": [
      "{'b', 'd', 'r'}\n",
      "{'c', 'a'}\n",
      "{'z', 'd', 'a', 'c', 'r', 'b', 'm', 'l'}\n",
      "{'z', 'd', 'b', 'm', 'l', 'r'}\n"
     ]
    }
   ],
   "source": [
    "print(a-b) #get letters in a but not in b\n",
    "print(a&b) #to get letters in both a and b\n",
    "print(a|b) #get letters in a or b or both\n",
    "print(a^b) # letters in a or b but not both"
   ]
  },
  {
   "cell_type": "code",
   "execution_count": null,
   "id": "b64a2089",
   "metadata": {},
   "outputs": [],
   "source": []
  },
  {
   "cell_type": "markdown",
   "id": "e9cc5bc9",
   "metadata": {},
   "source": [
    "### DICTIONARY\n",
    "These are enclosed with in {}.\n",
    "\n",
    "These come with a KEY:VALUE as a pair.\n",
    "\n",
    "We can search the value by its key.\n",
    "\n",
    "key must be always unique(no duplicates) and cant be changed.\n",
    "\n",
    "Indexing is not possible.\n",
    "\n",
    "It allows the mixed datatypes.\n",
    "\n",
    "Follows the order which we have given.\n"
   ]
  },
  {
   "cell_type": "code",
   "execution_count": 61,
   "id": "0490d4cb",
   "metadata": {},
   "outputs": [
    {
     "data": {
      "text/plain": [
       "{'name': 'sai', 'age': 27, 'gender': 'Female', 'place': 'India'}"
      ]
     },
     "execution_count": 61,
     "metadata": {},
     "output_type": "execute_result"
    }
   ],
   "source": [
    "d={\"name\":\"sai\",\"age\":27,\"gender\":\"Female\",\"place\":\"India\"}\n",
    "d"
   ]
  },
  {
   "cell_type": "code",
   "execution_count": 62,
   "id": "b592e129",
   "metadata": {},
   "outputs": [
    {
     "name": "stdout",
     "output_type": "stream",
     "text": [
      "{'name': 'sai', 'age': 27, 'gender': 'Female', 'place': 'India'}\n",
      "4\n",
      "India\n",
      "dict_keys(['name', 'age', 'gender', 'place'])\n",
      "dict_values(['sai', 27, 'Female', 'India'])\n"
     ]
    }
   ],
   "source": [
    "print(d)\n",
    "print(len(d))\n",
    "print(d[\"place\"])\n",
    "print(d.keys()) #to get the key \n",
    "print(d.values())# to get the values"
   ]
  },
  {
   "cell_type": "code",
   "execution_count": 63,
   "id": "e62aae5a",
   "metadata": {},
   "outputs": [
    {
     "data": {
      "text/plain": [
       "{'name': 'sai', 'age': 19, 'gender': 'Female', 'place': 'India'}"
      ]
     },
     "execution_count": 63,
     "metadata": {},
     "output_type": "execute_result"
    }
   ],
   "source": [
    "d[\"age\"]=19 # we can update the values using the keys\n",
    "d"
   ]
  },
  {
   "cell_type": "markdown",
   "id": "12f6b0e2",
   "metadata": {},
   "source": [
    "##### We can add and modify using the UPDATE "
   ]
  },
  {
   "cell_type": "code",
   "execution_count": 64,
   "id": "802cfb31",
   "metadata": {},
   "outputs": [
    {
     "data": {
      "text/plain": [
       "{'name': 'sai', 'age': 19, 'gender': 'F', 'place': 'India'}"
      ]
     },
     "execution_count": 64,
     "metadata": {},
     "output_type": "execute_result"
    }
   ],
   "source": [
    "d.update({\"gender\":\"F\"}) # we can modify the existing values\n",
    "d"
   ]
  },
  {
   "cell_type": "code",
   "execution_count": 65,
   "id": "7727c73e",
   "metadata": {},
   "outputs": [
    {
     "data": {
      "text/plain": [
       "{'name': 'sai', 'age': 19, 'gender': 'F', 'place': 'India', 'year': 1994}"
      ]
     },
     "execution_count": 65,
     "metadata": {},
     "output_type": "execute_result"
    }
   ],
   "source": [
    "d.update({\"year\":1994}) # we can add a new key:value pair\n",
    "d"
   ]
  },
  {
   "cell_type": "code",
   "execution_count": 66,
   "id": "540f65c7",
   "metadata": {},
   "outputs": [
    {
     "data": {
      "text/plain": [
       "{'name': 'sai', 'age': 19, 'gender': 'F', 'place': 'India'}"
      ]
     },
     "execution_count": 66,
     "metadata": {},
     "output_type": "execute_result"
    }
   ],
   "source": [
    "d.popitem() # to remove the last item\n",
    "d"
   ]
  },
  {
   "cell_type": "code",
   "execution_count": 67,
   "id": "52164e96",
   "metadata": {},
   "outputs": [
    {
     "data": {
      "text/plain": [
       "{'name': 'sai', 'age': 19, 'place': 'India'}"
      ]
     },
     "execution_count": 67,
     "metadata": {},
     "output_type": "execute_result"
    }
   ],
   "source": [
    "d.pop(\"gender\")# rwmove the sepcific key mentioned\n",
    "d"
   ]
  },
  {
   "cell_type": "code",
   "execution_count": 68,
   "id": "3250dafa",
   "metadata": {},
   "outputs": [
    {
     "data": {
      "text/plain": [
       "{'age': 19, 'place': 'India'}"
      ]
     },
     "execution_count": 68,
     "metadata": {},
     "output_type": "execute_result"
    }
   ],
   "source": [
    "del d[\"name\"] #To remove \n",
    "d"
   ]
  },
  {
   "cell_type": "code",
   "execution_count": 69,
   "id": "b6337bc8",
   "metadata": {},
   "outputs": [
    {
     "ename": "NameError",
     "evalue": "name 'd1' is not defined",
     "output_type": "error",
     "traceback": [
      "\u001b[1;31m---------------------------------------------------------------------------\u001b[0m",
      "\u001b[1;31mNameError\u001b[0m                                 Traceback (most recent call last)",
      "\u001b[1;32m~\\AppData\\Local\\Temp\\ipykernel_8368\\1128010449.py\u001b[0m in \u001b[0;36m<module>\u001b[1;34m\u001b[0m\n\u001b[0;32m      1\u001b[0m \u001b[0md1\u001b[0m\u001b[1;33m=\u001b[0m\u001b[1;33m{\u001b[0m\u001b[1;34m\"name\"\u001b[0m\u001b[1;33m:\u001b[0m\u001b[1;34m\"sai\"\u001b[0m\u001b[1;33m,\u001b[0m\u001b[1;34m\"age\"\u001b[0m\u001b[1;33m:\u001b[0m\u001b[1;36m27\u001b[0m\u001b[1;33m,\u001b[0m\u001b[1;34m\"gender\"\u001b[0m\u001b[1;33m:\u001b[0m\u001b[1;34m\"Female\"\u001b[0m\u001b[1;33m,\u001b[0m\u001b[1;34m\"place\"\u001b[0m\u001b[1;33m:\u001b[0m\u001b[1;34m\"India\"\u001b[0m\u001b[1;33m}\u001b[0m\u001b[1;33m\u001b[0m\u001b[1;33m\u001b[0m\u001b[0m\n\u001b[0;32m      2\u001b[0m \u001b[1;32mdel\u001b[0m \u001b[0md1\u001b[0m \u001b[1;31m#To remove\u001b[0m\u001b[1;33m\u001b[0m\u001b[1;33m\u001b[0m\u001b[0m\n\u001b[1;32m----> 3\u001b[1;33m \u001b[0md1\u001b[0m\u001b[1;33m\u001b[0m\u001b[1;33m\u001b[0m\u001b[0m\n\u001b[0m",
      "\u001b[1;31mNameError\u001b[0m: name 'd1' is not defined"
     ]
    }
   ],
   "source": [
    "d1={\"name\":\"sai\",\"age\":27,\"gender\":\"Female\",\"place\":\"India\"}\n",
    "del d1 #To remove \n",
    "d1"
   ]
  },
  {
   "cell_type": "code",
   "execution_count": 70,
   "id": "ab1b7950",
   "metadata": {},
   "outputs": [
    {
     "data": {
      "text/plain": [
       "{}"
      ]
     },
     "execution_count": 70,
     "metadata": {},
     "output_type": "execute_result"
    }
   ],
   "source": [
    "d1={\"name\":\"sai\",\"age\":27,\"gender\":\"Female\",\"place\":\"India\"}\n",
    "d1.clear() #To remove \n",
    "d1"
   ]
  },
  {
   "cell_type": "code",
   "execution_count": 71,
   "id": "aec56c9c",
   "metadata": {},
   "outputs": [],
   "source": [
    "x={\"name\":\"sai\",\"age\":27,\"gender\":\"Female\",\"place\":\"India\",\"year\":1994,\"height\":156}"
   ]
  },
  {
   "cell_type": "code",
   "execution_count": 72,
   "id": "24d503a4",
   "metadata": {},
   "outputs": [
    {
     "name": "stdout",
     "output_type": "stream",
     "text": [
      "yes\n"
     ]
    }
   ],
   "source": [
    "if \"year\" in x:\n",
    "    print(\"yes\")\n",
    "else:\n",
    "    print(\"no\")"
   ]
  },
  {
   "cell_type": "code",
   "execution_count": 73,
   "id": "05e5bb3e",
   "metadata": {},
   "outputs": [
    {
     "name": "stdout",
     "output_type": "stream",
     "text": [
      "age\n",
      "place\n"
     ]
    }
   ],
   "source": [
    "#by default only the keys will be displayed\n",
    "for i in d:\n",
    "    print(i)"
   ]
  },
  {
   "cell_type": "code",
   "execution_count": 74,
   "id": "93d6efb6",
   "metadata": {},
   "outputs": [
    {
     "name": "stdout",
     "output_type": "stream",
     "text": [
      "age 19\n",
      "place India\n"
     ]
    }
   ],
   "source": [
    "for i,j in d.items():\n",
    "    print(i,j)"
   ]
  },
  {
   "cell_type": "code",
   "execution_count": 75,
   "id": "3fd34e1a",
   "metadata": {},
   "outputs": [],
   "source": [
    "x={\"name\":\"sai\",\"age\":27,\"gender\":\"Female\",\"place\":\"India\",\"year\":1994,\"height\":156}\n"
   ]
  },
  {
   "cell_type": "code",
   "execution_count": 76,
   "id": "b23d4468",
   "metadata": {},
   "outputs": [
    {
     "data": {
      "text/plain": [
       "['age', 'gender', 'height', 'name', 'place', 'year']"
      ]
     },
     "execution_count": 76,
     "metadata": {},
     "output_type": "execute_result"
    }
   ],
   "source": [
    "sorted(x)"
   ]
  },
  {
   "cell_type": "code",
   "execution_count": 77,
   "id": "b4c74a62",
   "metadata": {},
   "outputs": [
    {
     "data": {
      "text/plain": [
       "['name', 'age', 'gender', 'place', 'year', 'height']"
      ]
     },
     "execution_count": 77,
     "metadata": {},
     "output_type": "execute_result"
    }
   ],
   "source": [
    "list(x)"
   ]
  },
  {
   "cell_type": "code",
   "execution_count": 78,
   "id": "619934b1",
   "metadata": {},
   "outputs": [
    {
     "data": {
      "text/plain": [
       "{'age': 25, 'place': 'delhi', 'name': 'aaa'}"
      ]
     },
     "execution_count": 78,
     "metadata": {},
     "output_type": "execute_result"
    }
   ],
   "source": [
    "dict(age=25, place='delhi', name='aaa')"
   ]
  },
  {
   "cell_type": "code",
   "execution_count": 79,
   "id": "b87fd437",
   "metadata": {},
   "outputs": [
    {
     "data": {
      "text/plain": [
       "{'sape': 4139, 'guido': 4127, 'jack': 4098}"
      ]
     },
     "execution_count": 79,
     "metadata": {},
     "output_type": "execute_result"
    }
   ],
   "source": [
    "dict([('sape', 4139), ('guido', 4127), ('jack', 4098)])"
   ]
  },
  {
   "cell_type": "code",
   "execution_count": 80,
   "id": "784480ba",
   "metadata": {},
   "outputs": [
    {
     "data": {
      "text/plain": [
       "{2: 4, 4: 16, 6: 36, 8: 64}"
      ]
     },
     "execution_count": 80,
     "metadata": {},
     "output_type": "execute_result"
    }
   ],
   "source": [
    "{x: x**2 for x in (2, 4, 6,8)}"
   ]
  },
  {
   "cell_type": "code",
   "execution_count": 81,
   "id": "81a0bb40",
   "metadata": {},
   "outputs": [
    {
     "data": {
      "text/plain": [
       "{0: 0, 2: 4, 4: 16, 6: 36, 8: 64, 10: 100, 12: 144, 14: 196, 16: 256, 18: 324}"
      ]
     },
     "execution_count": 81,
     "metadata": {},
     "output_type": "execute_result"
    }
   ],
   "source": [
    "{x: x**2 for x in range(0,20,2)}"
   ]
  },
  {
   "cell_type": "code",
   "execution_count": 82,
   "id": "238b6ee1",
   "metadata": {},
   "outputs": [
    {
     "data": {
      "text/plain": [
       "{'info1': {'name': 'aaaa', 'age': 13, 'city': 'delhi'},\n",
       " 'info2': {'name': 'bbb', 'age': 15, 'city': 'gujarth'},\n",
       " 'info3': {'name': 'ccc', 'age': 27, 'city': 'chennai'}}"
      ]
     },
     "execution_count": 82,
     "metadata": {},
     "output_type": "execute_result"
    }
   ],
   "source": [
    "dd={'info1':{'name':\"aaaa\",'age':13,'city':\"delhi\"},\n",
    "   'info2':{'name':\"bbb\",'age':15,'city':\"gujarth\"},\n",
    "   'info3':{'name':\"ccc\",'age':27,'city':\"chennai\"}}\n",
    "dd"
   ]
  },
  {
   "cell_type": "code",
   "execution_count": 83,
   "id": "c15323da",
   "metadata": {},
   "outputs": [
    {
     "data": {
      "text/plain": [
       "'aaaa'"
      ]
     },
     "execution_count": 83,
     "metadata": {},
     "output_type": "execute_result"
    }
   ],
   "source": [
    "dd['info1']['name']"
   ]
  }
 ],
 "metadata": {
  "kernelspec": {
   "display_name": "Python 3 (ipykernel)",
   "language": "python",
   "name": "python3"
  },
  "language_info": {
   "codemirror_mode": {
    "name": "ipython",
    "version": 3
   },
   "file_extension": ".py",
   "mimetype": "text/x-python",
   "name": "python",
   "nbconvert_exporter": "python",
   "pygments_lexer": "ipython3",
   "version": "3.9.13"
  }
 },
 "nbformat": 4,
 "nbformat_minor": 5
}
